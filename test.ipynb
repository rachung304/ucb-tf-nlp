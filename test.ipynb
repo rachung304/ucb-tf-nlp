{
 "cells": [
  {
   "cell_type": "code",
   "execution_count": 1,
   "metadata": {},
   "outputs": [],
   "source": [
    "numDimensions = 300\n",
    "maxSeqLength = 25\n",
    "batchSize = 20\n",
    "lstmUnits = 16\n",
    "numClasses = 2\n",
    "iterations = 100000"
   ]
  },
  {
   "cell_type": "code",
   "execution_count": 2,
   "metadata": {},
   "outputs": [],
   "source": [
    "import numpy as np\n",
    "wordsList = np.load('./training_data/wordsList.npy').tolist()\n",
    "wordsList = [word.decode('UTF-8') for word in wordsList] #Encode words as UTF-8\n",
    "wordVectors = np.load('./training_data/wordVectors.npy')"
   ]
  },
  {
   "cell_type": "code",
   "execution_count": 3,
   "metadata": {},
   "outputs": [
    {
     "name": "stderr",
     "output_type": "stream",
     "text": [
      "/anaconda3/lib/python3.6/site-packages/h5py/__init__.py:36: FutureWarning: Conversion of the second argument of issubdtype from `float` to `np.floating` is deprecated. In future, it will be treated as `np.float64 == np.dtype(float).type`.\n",
      "  from ._conv import register_converters as _register_converters\n"
     ]
    },
    {
     "name": "stdout",
     "output_type": "stream",
     "text": [
      "WARNING:tensorflow:From <ipython-input-3-752337ef3cb1>:48: softmax_cross_entropy_with_logits (from tensorflow.python.ops.nn_ops) is deprecated and will be removed in a future version.\n",
      "Instructions for updating:\n",
      "\n",
      "Future major versions of TensorFlow will allow gradients to flow\n",
      "into the labels input on backprop by default.\n",
      "\n",
      "See @{tf.nn.softmax_cross_entropy_with_logits_v2}.\n",
      "\n"
     ]
    }
   ],
   "source": [
    "import tensorflow as tf\n",
    "tf.reset_default_graph()\n",
    "\n",
    "# labels = tf.placeholder(tf.float32, [batchSize, numClasses], name=\"sentiment_labels\")\n",
    "# input_data = tf.placeholder(tf.int32, [batchSize, maxSeqLength], name=\"input_vector\")\n",
    "\n",
    "# data = tf.Variable(tf.zeros([batchSize, maxSeqLength, numDimensions]),dtype=tf.float32, name=\"3D_array\")\n",
    "# data = tf.nn.embedding_lookup(wordVectors,input_data, name=\"Integerizer\")\n",
    "\n",
    "# lstmCell = tf.contrib.rnn.BasicLSTMCell(lstmUnits)\n",
    "# lstmCell = tf.contrib.rnn.DropoutWrapper(cell=lstmCell, output_keep_prob=0.25)\n",
    "# value, _ = tf.nn.dynamic_rnn(lstmCell, data, dtype=tf.float32)\n",
    "\n",
    "# weight = tf.Variable(tf.truncated_normal([lstmUnits, numClasses]), name=\"weight\")\n",
    "# bias = tf.Variable(tf.constant(0.1, shape=[numClasses]), name=\"bias\")\n",
    "# value = tf.transpose(value, [1, 0, 2], name=\"transposed_output\")\n",
    "# last = tf.gather(value, int(value.get_shape()[0]) - 1, name=\"last\")\n",
    "# prediction = (tf.matmul(last, weight) + bias)\n",
    "\n",
    "# correctPred = tf.equal(tf.argmax(prediction,1), tf.argmax(labels,1), name=\"correct_prediction\")\n",
    "# accuracy = tf.reduce_mean(tf.cast(correctPred, tf.float32), name=\"accuracy\")\n",
    "\n",
    "with tf.name_scope('input_placeholders'):\n",
    "    labels = tf.placeholder(tf.float32, [batchSize, numClasses], name=\"sentiment_labels\")\n",
    "    input_data = tf.placeholder(tf.int32, [batchSize, maxSeqLength], name=\"input_vector\")\n",
    "    \n",
    "with tf.name_scope('word_embedding_array'):\n",
    "    data = tf.Variable(tf.zeros([batchSize, maxSeqLength, numDimensions]),dtype=tf.float32, name=\"3D_array\")\n",
    "    data = tf.nn.embedding_lookup(wordVectors,input_data, name=\"Integerizer\")\n",
    "\n",
    "with tf.name_scope('LSTM_Params'):\n",
    "    lstmCell = tf.contrib.rnn.BasicLSTMCell(lstmUnits)\n",
    "    lstmCell = tf.contrib.rnn.DropoutWrapper(cell=lstmCell, output_keep_prob=0.25)\n",
    "    value, _ = tf.nn.dynamic_rnn(lstmCell, data, dtype=tf.float32)\n",
    "    \n",
    "with tf.name_scope('LSTM_NN'):\n",
    "    weight = tf.Variable(tf.truncated_normal([lstmUnits, numClasses]), name=\"weight\")\n",
    "    bias = tf.Variable(tf.constant(0.1, shape=[numClasses]), name=\"bias\")\n",
    "    value = tf.transpose(value, [1, 0, 2], name=\"transposed_output\")\n",
    "    last = tf.gather(value, int(value.get_shape()[0]) - 1, name=\"last\")\n",
    "    prediction = (tf.matmul(last, weight) + bias)\n",
    "\n",
    "with tf.name_scope('Prediction'):\n",
    "    correctPred = tf.equal(tf.argmax(prediction,1), tf.argmax(labels,1), name=\"correct_prediction\")\n",
    "    accuracy = tf.reduce_mean(tf.cast(correctPred, tf.float32), name=\"accuracy\")\n",
    "\n",
    "with tf.name_scope('Optimizers'):\n",
    "    loss = tf.reduce_mean(tf.nn.softmax_cross_entropy_with_logits(logits=prediction, labels=labels), name=\"Mean_Loss\")\n",
    "    optimizer = tf.train.AdamOptimizer(name=\"adam_optimizer\").minimize(loss)"
   ]
  },
  {
   "cell_type": "code",
   "execution_count": 4,
   "metadata": {},
   "outputs": [
    {
     "name": "stdout",
     "output_type": "stream",
     "text": [
      "INFO:tensorflow:Restoring parameters from models/pretrained_lstm.ckpt-1000\n"
     ]
    }
   ],
   "source": [
    "sess = tf.InteractiveSession()\n",
    "saver = tf.train.Saver()\n",
    "saver.restore(sess, tf.train.latest_checkpoint('models'))"
   ]
  },
  {
   "cell_type": "code",
   "execution_count": 5,
   "metadata": {},
   "outputs": [],
   "source": [
    "# Removes punctuation, parentheses, question marks, etc., and leaves only alphanumeric characters\n",
    "import re\n",
    "strip_special_chars = re.compile(\"[^A-Za-z0-9 ]+\")\n",
    "\n",
    "def cleanSentences(string):\n",
    "    string = string.lower().replace(\"<br />\", \" \")\n",
    "    return re.sub(strip_special_chars, \"\", string.lower())\n",
    "\n",
    "def getSentenceMatrix(sentence):\n",
    "    arr = np.zeros([batchSize, maxSeqLength])\n",
    "    sentenceMatrix = np.zeros([batchSize,maxSeqLength], dtype='int32')\n",
    "    cleanedSentence = cleanSentences(sentence)\n",
    "    split = cleanedSentence.split()\n",
    "    for indexCounter,word in enumerate(split):\n",
    "        try:\n",
    "            sentenceMatrix[0,indexCounter] = wordsList.index(word)\n",
    "        except ValueError:\n",
    "            sentenceMatrix[0,indexCounter] = 399999 #Vector for unkown words\n",
    "    return sentenceMatrix"
   ]
  },
  {
   "cell_type": "code",
   "execution_count": 6,
   "metadata": {},
   "outputs": [
    {
     "name": "stdout",
     "output_type": "stream",
     "text": [
      "Write your review: I did not like it\n",
      "Negative Sentiment\n"
     ]
    }
   ],
   "source": [
    "inputText = input(\"Write your review: \")\n",
    "# inputText = \"i hated this product\"\n",
    "\n",
    "inputMatrix = getSentenceMatrix(inputText)\n",
    "predictedSentiment = sess.run(prediction, {input_data: inputMatrix})[0]\n",
    "# predictedSentiment[0] represents output score for positive sentiment\n",
    "# predictedSentiment[1] represents output score for negative sentiment\n",
    "\n",
    "if (predictedSentiment[0] > predictedSentiment[1]):\n",
    "    print (\"Positive Sentiment\")\n",
    "else:\n",
    "    print (\"Negative Sentiment\")"
   ]
  },
  {
   "cell_type": "code",
   "execution_count": 7,
   "metadata": {},
   "outputs": [
    {
     "name": "stdout",
     "output_type": "stream",
     "text": [
      "Write your next review: I really didn't like it\n",
      "Negative Sentiment\n"
     ]
    }
   ],
   "source": [
    "secondInputText = input(\"Write your next review: \")\n",
    "secondInputMatrix = getSentenceMatrix(secondInputText)\n",
    "\n",
    "predictedSentiment = sess.run(prediction, {input_data: secondInputMatrix})[0]\n",
    "if (predictedSentiment[0] > predictedSentiment[1]):\n",
    "    print (\"Positive Sentiment\")\n",
    "else:\n",
    "    print (\"Negative Sentiment\")"
   ]
  },
  {
   "cell_type": "code",
   "execution_count": null,
   "metadata": {},
   "outputs": [],
   "source": []
  }
 ],
 "metadata": {
  "kernelspec": {
   "display_name": "Python 3",
   "language": "python",
   "name": "python3"
  },
  "language_info": {
   "codemirror_mode": {
    "name": "ipython",
    "version": 3
   },
   "file_extension": ".py",
   "mimetype": "text/x-python",
   "name": "python",
   "nbconvert_exporter": "python",
   "pygments_lexer": "ipython3",
   "version": "3.6.4"
  }
 },
 "nbformat": 4,
 "nbformat_minor": 2
}

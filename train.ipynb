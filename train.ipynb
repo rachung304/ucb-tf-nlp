{
 "cells": [
  {
   "cell_type": "code",
   "execution_count": 1,
   "metadata": {},
   "outputs": [],
   "source": [
    "import numpy as np\n",
    "import tensorflow as tf"
   ]
  },
  {
   "cell_type": "code",
   "execution_count": 2,
   "metadata": {},
   "outputs": [],
   "source": [
    "filename = \"./training_data/yelp_labelled.txt\"\n",
    "with open(filename, \"r\", encoding='utf-8') as infile, open('./training_data/positiveReviews.txt','w') as pf, open('./training_data/negativeReviews.txt','w') as nf:\n",
    "    for line in infile:\n",
    "        data = line.rsplit(None,1)\n",
    "        class_label = int(data[-1])\n",
    "        review = data[0]\n",
    "        if class_label == 1:\n",
    "#             print(review)\n",
    "            pf.write(str(review)+\"\\n\")\n",
    "        else:\n",
    "            nf.write(str(review)+\"\\n\")\n",
    "#             print(review)"
   ]
  },
  {
   "cell_type": "code",
   "execution_count": 3,
   "metadata": {},
   "outputs": [
    {
     "name": "stdout",
     "output_type": "stream",
     "text": [
      "Loaded the word list!\n",
      "Loaded the word vectors!\n"
     ]
    }
   ],
   "source": [
    "wordsList = np.load('./training_data/wordsList.npy')\n",
    "print('Loaded the word list!')\n",
    "wordsList = wordsList.tolist() #Originally loaded as numpy array\n",
    "wordsList = [word.decode('UTF-8') for word in wordsList] #Encode words as UTF-8\n",
    "wordVectors = np.load('./training_data/wordVectors.npy')\n",
    "print ('Loaded the word vectors!')"
   ]
  },
  {
   "cell_type": "code",
   "execution_count": 4,
   "metadata": {},
   "outputs": [
    {
     "name": "stdout",
     "output_type": "stream",
     "text": [
      "400000\n",
      "(400000, 50)\n"
     ]
    }
   ],
   "source": [
    "print(len(wordsList))\n",
    "print(wordVectors.shape)"
   ]
  },
  {
   "cell_type": "code",
   "execution_count": 5,
   "metadata": {},
   "outputs": [
    {
     "name": "stdout",
     "output_type": "stream",
     "text": [
      "Positive Reviews counted\n",
      "Negative Reviews counted\n",
      "Total number of reviews:  1000\n",
      "Total number of words:  10894\n",
      "Average of words in reviews:  10.894\n"
     ]
    }
   ],
   "source": [
    "positiveReviews = ['./training_data/positiveReviews.txt']\n",
    "negativeReviews = ['./training_data/negativeReviews.txt']\n",
    "\n",
    "wordCount = []\n",
    "for pr in positiveReviews:\n",
    "    with open(pr, \"r\", encoding='utf-8') as f:\n",
    "        for line in f:\n",
    "            counter = len(line.split())\n",
    "            wordCount.append(counter)\n",
    "print('Positive Reviews counted')\n",
    "\n",
    "for nr in negativeReviews:\n",
    "    with open(nr, \"r\", encoding='utf-8') as f:\n",
    "        for line in f:\n",
    "            counter = len(line.split())\n",
    "            wordCount.append(counter)\n",
    "print('Negative Reviews counted')\n",
    "\n",
    "numReviews = len(wordCount)\n",
    "print('Total number of reviews: ', numReviews)\n",
    "print('Total number of words: ', sum(wordCount))\n",
    "print('Average of words in reviews: ', sum(wordCount)/numReviews)\n"
   ]
  },
  {
   "cell_type": "code",
   "execution_count": null,
   "metadata": {},
   "outputs": [],
   "source": []
  }
 ],
 "metadata": {
  "kernelspec": {
   "display_name": "Python 3",
   "language": "python",
   "name": "python3"
  },
  "language_info": {
   "codemirror_mode": {
    "name": "ipython",
    "version": 3
   },
   "file_extension": ".py",
   "mimetype": "text/x-python",
   "name": "python",
   "nbconvert_exporter": "python",
   "pygments_lexer": "ipython3",
   "version": "3.6.5"
  }
 },
 "nbformat": 4,
 "nbformat_minor": 2
}

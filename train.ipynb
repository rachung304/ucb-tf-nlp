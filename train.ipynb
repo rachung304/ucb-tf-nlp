{
 "cells": [
  {
   "cell_type": "code",
   "execution_count": 1,
   "metadata": {},
   "outputs": [
    {
     "name": "stderr",
     "output_type": "stream",
     "text": [
      "/anaconda3/lib/python3.6/site-packages/h5py/__init__.py:36: FutureWarning: Conversion of the second argument of issubdtype from `float` to `np.floating` is deprecated. In future, it will be treated as `np.float64 == np.dtype(float).type`.\n",
      "  from ._conv import register_converters as _register_converters\n"
     ]
    }
   ],
   "source": [
    "import numpy as np\n",
    "import tensorflow as tf"
   ]
  },
  {
   "cell_type": "code",
   "execution_count": 2,
   "metadata": {},
   "outputs": [],
   "source": [
    "filenames = ['./training_data/yelp_labelled.txt', './training_data/imdb_labelled.txt', './training_data/amazon_cells_labelled.txt']\n",
    "with open('./training_data/training.txt', 'w') as outfile:\n",
    "    for fname in filenames:\n",
    "        with open(fname) as infile:\n",
    "            for line in infile:\n",
    "                outfile.write(line)"
   ]
  },
  {
   "cell_type": "code",
   "execution_count": 3,
   "metadata": {},
   "outputs": [],
   "source": [
    "filename = \"./training_data/training.txt\"\n",
    "with open(filename, \"r\", encoding='utf-8') as infile, open('./training_data/positiveReviews.txt','w') as pf, open('./training_data/negativeReviews.txt','w') as nf:\n",
    "    for line in infile:\n",
    "        data = line.rsplit(None,1)\n",
    "        class_label = int(data[-1])\n",
    "        review = data[0]\n",
    "        if class_label == 1:\n",
    "#             print(review)\n",
    "            pf.write(str(review)+\"\\n\")\n",
    "        else:\n",
    "            nf.write(str(review)+\"\\n\")\n",
    "#             print(review)"
   ]
  },
  {
   "cell_type": "code",
   "execution_count": 4,
   "metadata": {},
   "outputs": [
    {
     "name": "stdout",
     "output_type": "stream",
     "text": [
      "Loaded the word list!\n",
      "Loaded the word vectors!\n"
     ]
    }
   ],
   "source": [
    "# 6B tokens, 400K vocab, uncased, 50d, 100d, 200d, & 300d vectors\n",
    "wordsList = np.load('./training_data/wordsList.npy')\n",
    "print('Loaded the word list!')\n",
    "wordsList = wordsList.tolist() #Originally loaded as numpy array\n",
    "wordsList = [word.decode('UTF-8') for word in wordsList] #Encode words as UTF-8\n",
    "wordVectors = np.load('./training_data/wordVectors.npy')\n",
    "print ('Loaded the word vectors!')"
   ]
  },
  {
   "cell_type": "code",
   "execution_count": 5,
   "metadata": {},
   "outputs": [
    {
     "name": "stdout",
     "output_type": "stream",
     "text": [
      "400000\n",
      "(400000, 50)\n"
     ]
    }
   ],
   "source": [
    "print(len(wordsList))\n",
    "print(wordVectors.shape)"
   ]
  },
  {
   "cell_type": "code",
   "execution_count": 6,
   "metadata": {},
   "outputs": [
    {
     "name": "stdout",
     "output_type": "stream",
     "text": [
      "Positive Reviews counted\n",
      "Negative Reviews counted\n",
      "Total number of reviews:  3000\n",
      "Total number of words:  35495\n",
      "Average of words in reviews:  11.831666666666667\n"
     ]
    }
   ],
   "source": [
    "positiveReviews = ['./training_data/positiveReviews.txt']\n",
    "negativeReviews = ['./training_data/negativeReviews.txt']\n",
    "\n",
    "wordCount = []\n",
    "for pr in positiveReviews:\n",
    "    with open(pr, \"r\", encoding='utf-8') as f:\n",
    "        for line in f:\n",
    "            counter = len(line.split())\n",
    "#             print(counter)\n",
    "            wordCount.append(counter)\n",
    "print('Positive Reviews counted')\n",
    "\n",
    "for nr in negativeReviews:\n",
    "    with open(nr, \"r\", encoding='utf-8') as f:\n",
    "        for line in f:\n",
    "            counter = len(line.split())\n",
    "            wordCount.append(counter)\n",
    "print('Negative Reviews counted')\n",
    "\n",
    "numReviews = len(wordCount)\n",
    "print('Total number of reviews: ', numReviews)\n",
    "print('Total number of words: ', sum(wordCount))\n",
    "print('Average of words in reviews: ', sum(wordCount)/numReviews)\n"
   ]
  },
  {
   "cell_type": "code",
   "execution_count": 7,
   "metadata": {},
   "outputs": [
    {
     "data": {
      "image/png": "[encoded data removed]",
      "text/plain": [
       "<matplotlib.figure.Figure at 0x1815a53b00>"
      ]
     },
     "metadata": {},
     "output_type": "display_data"
    }
   ],
   "source": [
    "import matplotlib.pyplot as plt\n",
    "%matplotlib inline\n",
    "plt.hist(wordCount, 30)\n",
    "plt.xlabel('Review Length')\n",
    "plt.ylabel('Occurence')\n",
    "plt.axis([0, 80, 0, 600])\n",
    "plt.show()"
   ]
  },
  {
   "cell_type": "code",
   "execution_count": 8,
   "metadata": {},
   "outputs": [],
   "source": [
    "maxReviewLength = 25"
   ]
  },
  {
   "cell_type": "code",
   "execution_count": 9,
   "metadata": {},
   "outputs": [],
   "source": [
    "# with open(pr) as f:\n",
    "#     sampleSentence = f.readlines()\n",
    "#     print(sampleSentence[3])"
   ]
  },
  {
   "cell_type": "code",
   "execution_count": 10,
   "metadata": {},
   "outputs": [],
   "source": [
    "# Removes unnecessary punctuation, parentheses, question marks, etc., and leaves only alphanumeric characters\n",
    "import re\n",
    "strip_special_chars = re.compile(\"[^A-Za-z0-9 ]+\")\n",
    "\n",
    "def cleanSentences(string):\n",
    "    string = string.lower().replace(\"<br />\", \" \")\n",
    "    return re.sub(strip_special_chars, \"\", string.lower())"
   ]
  },
  {
   "cell_type": "code",
   "execution_count": 11,
   "metadata": {},
   "outputs": [
    {
     "name": "stdout",
     "output_type": "stream",
     "text": [
      "wow loved this place\n"
     ]
    },
    {
     "data": {
      "text/plain": [
       "array([14397,  4146,    37,   241,     0,     0,     0,     0,     0,\n",
       "           0,     0,     0,     0,     0,     0,     0,     0,     0,\n",
       "           0,     0,     0,     0,     0,     0,     0], dtype=int32)"
      ]
     },
     "execution_count": 11,
     "metadata": {},
     "output_type": "execute_result"
    }
   ],
   "source": [
    "firstSentence = np.zeros((maxReviewLength), dtype='int32')\n",
    "with open(pr) as f:\n",
    "    indexCounter = 0\n",
    "    lines=f.readlines()\n",
    "#     print(lines[125])\n",
    "    cleanedLine = cleanSentences(lines[0])\n",
    "    print(cleanedLine)\n",
    "    split = cleanedLine.split()\n",
    "    for word in split:\n",
    "        if indexCounter < maxReviewLength:\n",
    "            try:\n",
    "                firstSentence[indexCounter] = wordsList.index(word)\n",
    "            except ValueError:\n",
    "                firstSentence[indexCounter] = 399999 #Vector for unknown words\n",
    "        indexCounter = indexCounter + 1\n",
    "firstSentence"
   ]
  },
  {
   "cell_type": "code",
   "execution_count": 12,
   "metadata": {},
   "outputs": [],
   "source": [
    "ids = np.zeros((numReviews, maxReviewLength), dtype='int32')\n",
    "reviewCounter = 0\n",
    "\n",
    "for pr in positiveReviews:\n",
    "    with open(pr, \"r\") as f:\n",
    "        lines = f.readlines()\n",
    "        for line in lines:\n",
    "            i = 0\n",
    "            cleanedLine = cleanSentences(line)\n",
    "#             print(cleanedLine)\n",
    "            split = cleanedLine.split()\n",
    "            for word in split:\n",
    "#                 print(i)\n",
    "                try:\n",
    "                    ids[reviewCounter][i] = wordsList.index(word)\n",
    "                except ValueError:\n",
    "                    ids[reviewCounter][i] = 399999\n",
    "                i += 1\n",
    "                if i >= maxReviewLength:\n",
    "                    break\n",
    "            reviewCounter += 1\n",
    "            \n",
    "for nr in negativeReviews:\n",
    "    with open(nr, \"r\") as f:\n",
    "        lines = f.readlines()\n",
    "        for line in lines:\n",
    "            i = 0\n",
    "            cleanedLine = cleanSentences(line)\n",
    "            split = cleanedLine.split()\n",
    "            for word in split:\n",
    "#                 print(reviewCounter, i)\n",
    "                try:\n",
    "                    ids[reviewCounter][i] = wordsList.index(word)\n",
    "                except ValueError:\n",
    "                    ids[reviewCounter][i] = 399999\n",
    "                i += 1\n",
    "                if i >= maxReviewLength:\n",
    "                    break\n",
    "            reviewCounter += 1\n",
    "            \n",
    "np.save('idsMatrix', ids)"
   ]
  },
  {
   "cell_type": "code",
   "execution_count": 13,
   "metadata": {},
   "outputs": [
    {
     "name": "stdout",
     "output_type": "stream",
     "text": [
      "[[ 14397   4146     37 ...      0      0      0]\n",
      " [  1821     21    105 ...      0      0      0]\n",
      " [201534   3692     13 ...      0      0      0]\n",
      " ...\n",
      " [  6779    260     36 ...      0      0      0]\n",
      " [201534     91    873 ...      0      0      0]\n",
      " [    81     86     36 ...      0      0      0]]\n",
      "(3000, 25)\n"
     ]
    }
   ],
   "source": [
    "print(ids)\n",
    "print(ids.shape)"
   ]
  },
  {
   "cell_type": "code",
   "execution_count": 14,
   "metadata": {},
   "outputs": [],
   "source": [
    "# Helper function for splitting Train/Test batch\n",
    "\n",
    "from random import randint\n",
    "\n",
    "def getTrainBatch():\n",
    "    labels = []\n",
    "    arr = np.zeros([batchSize, maxReviewLength])\n",
    "    for i in range(batchSize):\n",
    "        if (i % 2 == 0): \n",
    "            num = randint(1,1350)\n",
    "            labels.append([1,0])\n",
    "        else:\n",
    "            num = randint(1650,3000)\n",
    "            labels.append([0,1])\n",
    "        arr[i] = ids[num-1:num]\n",
    "    return arr, labels\n",
    "\n",
    "def getTestBatch():\n",
    "    labels = []\n",
    "    arr = np.zeros([batchSize, maxReviewLength])\n",
    "    for i in range(batchSize):\n",
    "        num = randint(1350,1650)\n",
    "        if (num <= 1500):\n",
    "            labels.append([1,0])\n",
    "        else:\n",
    "            labels.append([0,1])\n",
    "        arr[i] = ids[num-1:num]\n",
    "    return arr, labels"
   ]
  },
  {
   "cell_type": "code",
   "execution_count": 15,
   "metadata": {},
   "outputs": [],
   "source": [
    "batchSize = 20\n",
    "lstmUnits = 16\n",
    "numClasses = 2\n",
    "iterations = 100001"
   ]
  },
  {
   "cell_type": "code",
   "execution_count": 16,
   "metadata": {},
   "outputs": [],
   "source": [
    "import tensorflow as tf\n",
    "tf.reset_default_graph()\n",
    "\n",
    "with tf.name_scope('input_placeholders'):\n",
    "    labels = tf.placeholder(tf.float32, [batchSize, numClasses], name=\"sentiment_labels\")\n",
    "    input_data = tf.placeholder(tf.int32, [batchSize, maxReviewLength], name=\"input_vector\")"
   ]
  },
  {
   "cell_type": "code",
   "execution_count": 17,
   "metadata": {},
   "outputs": [],
   "source": [
    "numDimensions = 300\n",
    "\n",
    "with tf.name_scope('word_embedding_array'):\n",
    "    data = tf.Variable(tf.zeros([batchSize, maxReviewLength, numDimensions]),dtype=tf.float32, name=\"3D_array\")\n",
    "    data = tf.nn.embedding_lookup(wordVectors,input_data, name=\"Integerizer\")"
   ]
  },
  {
   "cell_type": "code",
   "execution_count": 18,
   "metadata": {},
   "outputs": [],
   "source": [
    "with tf.name_scope('LSTM_Params'):\n",
    "    lstmCell = tf.contrib.rnn.BasicLSTMCell(lstmUnits)\n",
    "    lstmCell = tf.contrib.rnn.DropoutWrapper(cell=lstmCell, output_keep_prob=0.75)\n",
    "    value, _ = tf.nn.dynamic_rnn(lstmCell, data, dtype=tf.float32)"
   ]
  },
  {
   "cell_type": "code",
   "execution_count": 19,
   "metadata": {},
   "outputs": [],
   "source": [
    "with tf.name_scope('LSTM_NN'):\n",
    "    weight = tf.Variable(tf.truncated_normal([lstmUnits, numClasses]), name=\"weight\")\n",
    "    bias = tf.Variable(tf.constant(0.1, shape=[numClasses]), name=\"bias\")\n",
    "    value = tf.transpose(value, [1, 0, 2], name=\"transposed_output\")\n",
    "    last = tf.gather(value, int(value.get_shape()[0]) - 1, name=\"last\")\n",
    "    prediction = (tf.matmul(last, weight) + bias)"
   ]
  },
  {
   "cell_type": "code",
   "execution_count": 20,
   "metadata": {},
   "outputs": [],
   "source": [
    "with tf.name_scope('Prediction'):\n",
    "    correctPred = tf.equal(tf.argmax(prediction,1), tf.argmax(labels,1), name=\"correct_prediction\")\n",
    "    accuracy = tf.reduce_mean(tf.cast(correctPred, tf.float32), name=\"accuracy\")"
   ]
  },
  {
   "cell_type": "code",
   "execution_count": 21,
   "metadata": {},
   "outputs": [
    {
     "name": "stdout",
     "output_type": "stream",
     "text": [
      "WARNING:tensorflow:From <ipython-input-21-de49b5321fd0>:2: softmax_cross_entropy_with_logits (from tensorflow.python.ops.nn_ops) is deprecated and will be removed in a future version.\n",
      "Instructions for updating:\n",
      "\n",
      "Future major versions of TensorFlow will allow gradients to flow\n",
      "into the labels input on backprop by default.\n",
      "\n",
      "See @{tf.nn.softmax_cross_entropy_with_logits_v2}.\n",
      "\n"
     ]
    }
   ],
   "source": [
    "with tf.name_scope('Optimizers'):\n",
    "    loss = tf.reduce_mean(tf.nn.softmax_cross_entropy_with_logits(logits=prediction, labels=labels), name=\"Mean_Loss\")\n",
    "    optimizer = tf.train.AdamOptimizer(name=\"adam_optimizer\").minimize(loss)"
   ]
  },
  {
   "cell_type": "code",
   "execution_count": 22,
   "metadata": {},
   "outputs": [],
   "source": [
    "import datetime\n",
    "\n",
    "with tf.Session() as sess:\n",
    "    tf.summary.scalar('Loss', loss)\n",
    "    tf.summary.scalar('Accuracy', accuracy)\n",
    "    merged = tf.summary.merge_all()\n",
    "    logdir = \"tensorboard/\" + datetime.datetime.now().strftime(\"%Y%m%d-%H%M%S\") + \"/\"\n",
    "    writer = tf.summary.FileWriter(logdir, sess.graph)"
   ]
  },
  {
   "cell_type": "code",
   "execution_count": 23,
   "metadata": {},
   "outputs": [
    {
     "name": "stdout",
     "output_type": "stream",
     "text": [
      "saved to models/pretrained_lstm.ckpt-1000\n"
     ]
    }
   ],
   "source": [
    "sess = tf.InteractiveSession()\n",
    "saver = tf.train.Saver()\n",
    "sess.run(tf.global_variables_initializer())\n",
    "\n",
    "for i in range(iterations):\n",
    "    # Next Batch of reviews \n",
    "    nextBatch, nextBatchLabels = getTrainBatch()\n",
    "    sess.run(optimizer, {input_data: nextBatch, labels: nextBatchLabels})\n",
    "   \n",
    "   #Write summary to Tensorboard\n",
    "    if (i % 50 == 0):\n",
    "        summary = sess.run(merged, {input_data: nextBatch, labels: nextBatchLabels})\n",
    "        writer.add_summary(summary, i)\n",
    "\n",
    "   #Save the network every 10,000 training iterations\n",
    "    if (i % 10000 == 0 and i != 0):\n",
    "        save_path = saver.save(sess, \"models/pretrained_lstm.ckpt\", global_step=i)\n",
    "        print(\"saved to %s\" % save_path)\n",
    "        \n",
    "sess.graph.as_graph_def()\n",
    "file_writer = tf.summary.FileWriter(\"./graphLSTM\", sess.graph)\n",
    "writer.close()"
   ]
  },
  {
   "cell_type": "code",
   "execution_count": 24,
   "metadata": {},
   "outputs": [
    {
     "name": "stdout",
     "output_type": "stream",
     "text": [
      "INFO:tensorflow:Restoring parameters from models/pretrained_lstm.ckpt-1000\n"
     ]
    },
    {
     "name": "stderr",
     "output_type": "stream",
     "text": [
      "/anaconda3/lib/python3.6/site-packages/tensorflow/python/client/session.py:1711: UserWarning: An interactive session is already active. This can cause out-of-memory errors in some cases. You must explicitly call `InteractiveSession.close()` to release resources held by the other session(s).\n",
      "  warnings.warn('An interactive session is already active. This can '\n"
     ]
    }
   ],
   "source": [
    "sess = tf.InteractiveSession()\n",
    "saver = tf.train.Saver()\n",
    "saver.restore(sess, tf.train.latest_checkpoint('models'))"
   ]
  },
  {
   "cell_type": "code",
   "execution_count": 25,
   "metadata": {},
   "outputs": [
    {
     "name": "stdout",
     "output_type": "stream",
     "text": [
      "Accuracy for fold 1 : 85.00000238418579\n",
      "Accuracy for fold 2 : 85.00000238418579\n",
      "Accuracy for fold 3 : 69.9999988079071\n",
      "Accuracy for fold 4 : 80.0000011920929\n",
      "Accuracy for fold 5 : 85.00000238418579\n",
      "Accuracy for fold 6 : 69.9999988079071\n",
      "Accuracy for fold 7 : 85.00000238418579\n",
      "Accuracy for fold 8 : 85.00000238418579\n",
      "Accuracy for fold 9 : 69.9999988079071\n",
      "Accuracy for fold 10 : 64.99999761581421\n",
      "10 Fold Cross Validation Average Accuracy:  78.50000023841858\n",
      "10 Fold Cross Validation Average Loss:  44.033766090869904\n"
     ]
    }
   ],
   "source": [
    "iterations = 10\n",
    "kFoldAvgAcc = []\n",
    "kFoldAvgLoss = []\n",
    "for i in range(iterations):\n",
    "    nextBatch, nextBatchLabels = getTestBatch()\n",
    "    kFoldAvgAcc.append((sess.run(accuracy, {input_data: nextBatch, labels: nextBatchLabels})) * 100)\n",
    "    kFoldAvgLoss.append((sess.run(loss, {input_data: nextBatch, labels: nextBatchLabels})) * 100)\n",
    "    print(\"Accuracy for fold\", i+1, \":\" , (sess.run(accuracy, {input_data: nextBatch, labels: nextBatchLabels})) * 100)\n",
    "\n",
    "print(iterations, \"Fold Cross Validation Average Accuracy: \", sum(kFoldAvgAcc) / float(len(kFoldAvgAcc)))\n",
    "# don't know why the loss is so low. \n",
    "print(iterations, \"Fold Cross Validation Average Loss: \", sum(kFoldAvgLoss) / float(len(kFoldAvgLoss)))"
   ]
  },
  {
   "cell_type": "code",
   "execution_count": null,
   "metadata": {},
   "outputs": [],
   "source": []
  }
 ],
 "metadata": {
  "kernelspec": {
   "display_name": "Python 3",
   "language": "python",
   "name": "python3"
  },
  "language_info": {
   "codemirror_mode": {
    "name": "ipython",
    "version": 3
   },
   "file_extension": ".py",
   "mimetype": "text/x-python",
   "name": "python",
   "nbconvert_exporter": "python",
   "pygments_lexer": "ipython3",
   "version": "3.6.4"
  }
 },
 "nbformat": 4,
 "nbformat_minor": 2
}
